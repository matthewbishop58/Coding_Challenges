{
 "cells": [
  {
   "cell_type": "code",
   "execution_count": null,
   "metadata": {},
   "outputs": [],
   "source": []
  },
  {
   "cell_type": "code",
   "execution_count": null,
   "metadata": {},
   "outputs": [],
   "source": [
    "# Solution 1 - using while loop\n",
    "# O(n) time | O(1) space\n",
    "\n",
    "def isValidSubsequence(array, sequence):\n",
    "    arr_idx = 0\n",
    "    seq_idx = 0\n",
    "    while arr_idx < len(array) and seq_idx < len(sequence):\n",
    "        if array[arr_idx] == sequence[seq_idx]:\n",
    "            seq_idx += 1\n",
    "        arr_idx += 1\n",
    "    return seq_idx == len(sequence)\n",
    "    "
   ]
  },
  {
   "cell_type": "code",
   "execution_count": null,
   "metadata": {},
   "outputs": [],
   "source": [
    "# Solution 2 - using for loop\n",
    "# O(n) time | O(1) space\n",
    "\n",
    "def isValidSubsequence(array, sequence):\n",
    "    seq_idx = 0\n",
    "    for value in array:\n",
    "        if seq_idx == len(sequence):\n",
    "            break\n",
    "        if sequence[seq_idx] == value:\n",
    "            seq_idx += 1\n",
    "    return seq_idx == len(sequence)"
   ]
  }
 ],
 "metadata": {
  "language_info": {
   "name": "python"
  },
  "orig_nbformat": 4
 },
 "nbformat": 4,
 "nbformat_minor": 2
}
