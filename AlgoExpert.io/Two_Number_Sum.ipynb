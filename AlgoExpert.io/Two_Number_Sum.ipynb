{
 "cells": [
  {
   "cell_type": "markdown",
   "metadata": {},
   "source": []
  },
  {
   "cell_type": "code",
   "execution_count": null,
   "metadata": {},
   "outputs": [],
   "source": [
    "# Solution 1\n",
    "# O(n^2) time | O(1) space\n",
    "\n",
    "def twoNumberSum(array, targetSum):\n",
    "    for i in range(len(array)-1):\n",
    "        first_num = array[i]\n",
    "        for j in range(i+1, len(array)):\n",
    "            second_num = array[j]\n",
    "            if first_num + second_num == targetSum:\n",
    "                return [first_num, second_num]\n",
    "    return []\n",
    "\n"
   ]
  },
  {
   "cell_type": "code",
   "execution_count": null,
   "metadata": {},
   "outputs": [],
   "source": [
    "# Solution 2\n",
    "# O(n) time | O(n) space\n",
    "\n",
    "def twoNumberSum(array, targetSum):\n",
    "    nums = {}\n",
    "    for num in array:\n",
    "        if targetSum - num in nums:\n",
    "            return [targetSum -num, num]\n",
    "        else:\n",
    "            nums[num] = True\n",
    "    return []\n"
   ]
  },
  {
   "cell_type": "code",
   "execution_count": null,
   "metadata": {},
   "outputs": [],
   "source": [
    "# Solution 3\n",
    "# O(nlog(n)) | O(1) space\n",
    "\n",
    "def twoNumberSum(array, targetSum):\n",
    "    array.sort()\n",
    "    left = 0\n",
    "    right = len(array)-1\n",
    "    while left < right:\n",
    "        currentSum = array[left] + array[right]\n",
    "        if currentSum == targetSum:\n",
    "            return[array[left], array[right]]\n",
    "        elif currentSum < targetSum:\n",
    "            left += 1\n",
    "        elif currentSum > targetSum:\n",
    "            right -=1\n",
    "    return []"
   ]
  }
 ],
 "metadata": {
  "kernelspec": {
   "display_name": "Python 3.8.8 ('base')",
   "language": "python",
   "name": "python3"
  },
  "language_info": {
   "name": "python",
   "version": "3.8.8"
  },
  "orig_nbformat": 4,
  "vscode": {
   "interpreter": {
    "hash": "b6d03b160a02bc6190cc4ff94cf13fc7839bd39d9ee05d9b4d380bbb7cc69248"
   }
  }
 },
 "nbformat": 4,
 "nbformat_minor": 2
}
