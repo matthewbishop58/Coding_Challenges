{
 "cells": [
  {
   "cell_type": "markdown",
   "metadata": {},
   "source": [
    "# 205. Isomorphic Strings\n",
    "Given two strings s and t, determine if they are isomorphic.\n",
    "\n",
    "Two strings s and t are isomorphic if the characters in s can be replaced to get t.\n",
    "\n",
    "All occurrences of a character must be replaced with another character while preserving the order of characters. No two characters may map to the same character, but a character may map to itself."
   ]
  },
  {
   "cell_type": "code",
   "execution_count": 1,
   "metadata": {},
   "outputs": [],
   "source": [
    "class Solution(object):\n",
    "    def isIsomorphic(self, s, t):\n",
    "        \"\"\"\n",
    "        :type s: str\n",
    "        :type t: str\n",
    "        :rtype: bool\n",
    "        \"\"\"\n",
    "        mapping_s_t = {}\n",
    "        mapping_t_s = {}\n",
    "        \n",
    "        for c1, c2 in zip(s, t):\n",
    "            \n",
    "            # Case 1: No mapping exists in either of the dictionaries\n",
    "            if (c1 not in mapping_s_t) and (c2 not in mapping_t_s):\n",
    "                mapping_s_t[c1] = c2\n",
    "                mapping_t_s[c2] = c1\n",
    "            \n",
    "            # Case 2: Ether mapping doesn't exist in one of the dictionaries or Mapping exists and\n",
    "            # it doesn't match in either of the dictionaries or both            \n",
    "            elif mapping_s_t.get(c1) != c2 or mapping_t_s.get(c2) != c1:\n",
    "                return False\n",
    "            \n",
    "        return True"
   ]
  },
  {
   "cell_type": "code",
   "execution_count": 2,
   "metadata": {},
   "outputs": [],
   "source": [
    "solution = Solution()\n"
   ]
  },
  {
   "cell_type": "code",
   "execution_count": 3,
   "metadata": {},
   "outputs": [],
   "source": [
    "s = 'foo'\n",
    "t = 'bar'"
   ]
  },
  {
   "cell_type": "code",
   "execution_count": 4,
   "metadata": {},
   "outputs": [
    {
     "data": {
      "text/plain": [
       "False"
      ]
     },
     "execution_count": 4,
     "metadata": {},
     "output_type": "execute_result"
    }
   ],
   "source": [
    "solution.isIsomorphic(s, t)"
   ]
  },
  {
   "cell_type": "code",
   "execution_count": null,
   "metadata": {},
   "outputs": [],
   "source": []
  }
 ],
 "metadata": {
  "kernelspec": {
   "display_name": "Python 3.10.7 64-bit (microsoft store)",
   "language": "python",
   "name": "python3"
  },
  "language_info": {
   "codemirror_mode": {
    "name": "ipython",
    "version": 3
   },
   "file_extension": ".py",
   "mimetype": "text/x-python",
   "name": "python",
   "nbconvert_exporter": "python",
   "pygments_lexer": "ipython3",
   "version": "3.10.7"
  },
  "orig_nbformat": 4,
  "vscode": {
   "interpreter": {
    "hash": "b4d981aab3083155095c2c074466ed07152749282d0ee32df655ab9e7e91ca8e"
   }
  }
 },
 "nbformat": 4,
 "nbformat_minor": 2
}
